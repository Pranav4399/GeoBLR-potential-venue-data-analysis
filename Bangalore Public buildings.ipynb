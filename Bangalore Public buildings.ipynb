{
 "cells": [
  {
   "cell_type": "code",
   "execution_count": 1,
   "metadata": {},
   "outputs": [],
   "source": [
    "import osmnx as ox;\n",
    "import folium;\n",
    "import pandas as pd;\n",
    "from folium.plugins import FloatImage\n",
    "import base64\n",
    "import geopy\n",
    "from geopy.geocoders import Nominatim\n",
    "from geopy.extra.rate_limiter import RateLimiter\n",
    "from geopy.point import Point"
   ]
  },
  {
   "cell_type": "code",
   "execution_count": 2,
   "metadata": {},
   "outputs": [],
   "source": [
    "place = 'Bengaluru'"
   ]
  },
  {
   "cell_type": "code",
   "execution_count": null,
   "metadata": {},
   "outputs": [],
   "source": [
    "#Tags acquired from 'https://wiki.openstreetmap.org/wiki/Buildings'\n",
    "\n",
    "community_centre = {'amenity':'community_centre'}\n",
    "library = {'amenity':'library'}\n",
    "community_building = ox.geometries_from_place(place, community_centre)\n",
    "library_building = ox.geometries_from_place(place, library)"
   ]
  },
  {
   "cell_type": "code",
   "execution_count": null,
   "metadata": {},
   "outputs": [],
   "source": [
    "community_building.head()"
   ]
  },
  {
   "cell_type": "code",
   "execution_count": null,
   "metadata": {},
   "outputs": [],
   "source": [
    "print(len(community_building.index)) #All features in community_building = 166\n",
    "\n",
    "community_building_points = community_building[community_building.geom_type == 'Point'][:100] #Only Point features in community_building = 85\n",
    "print(len(community_building_points.index))\n",
    "\n",
    "community_building_polygon = community_building[community_building.geom_type == 'Polygon'][:100] #Only Polygon features in community_building = 81\n",
    "print(len(community_building_polygon.index))\n"
   ]
  },
  {
   "cell_type": "code",
   "execution_count": null,
   "metadata": {},
   "outputs": [],
   "source": [
    "community_building_points.head()"
   ]
  },
  {
   "cell_type": "code",
   "execution_count": 8,
   "metadata": {},
   "outputs": [],
   "source": [
    "locator = Nominatim(user_agent=\"google\")"
   ]
  },
  {
   "cell_type": "code",
   "execution_count": null,
   "metadata": {},
   "outputs": [],
   "source": [
    "community_building_points[\"geocode\"] = community_building_points['geometry'].y.map(str) + ',' + community_building_points['geometry'].x.map(str)\n",
    "for ind in community_building_points.index:\n",
    "    location = locator.reverse(community_building_points[\"geocode\"][ind])\n",
    "    community_building_points['geocode'][ind] = location.address"
   ]
  },
  {
   "cell_type": "code",
   "execution_count": null,
   "metadata": {},
   "outputs": [],
   "source": [
    "community_building_polygon[\"centroid\"] = community_building_polygon.to_crs(epsg=4326).centroid.to_crs(community_building_polygon.crs)"
   ]
  },
  {
   "cell_type": "code",
   "execution_count": null,
   "metadata": {},
   "outputs": [],
   "source": [
    "community_building_polygon[\"geocode\"] = community_building_polygon['centroid'].y.map(str) + ',' + community_building_polygon['centroid'].x.map(str)\n",
    "for ind in community_building_polygon.index:\n",
    "    location = locator.reverse(community_building_polygon[\"geocode\"][ind])\n",
    "    community_building_polygon['geocode'][ind] = location.address\n",
    "community_building_polygon = community_building_polygon.drop('centroid', axis=1)"
   ]
  },
  {
   "cell_type": "code",
   "execution_count": null,
   "metadata": {},
   "outputs": [],
   "source": [
    "library_building.head()"
   ]
  },
  {
   "cell_type": "code",
   "execution_count": null,
   "metadata": {},
   "outputs": [],
   "source": [
    "print(len(library_building.index)) #All features in community_building = 76\n",
    "\n",
    "library_building_points = library_building[library_building.geom_type == 'Point'][:100] #Only Point features in community_building = 51\n",
    "print(len(library_building_points.index))\n",
    "\n",
    "library_building_polygon = library_building[library_building.geom_type == 'Polygon'][:100] #Only Polygon features in community_building = 25\n",
    "print(len(library_building_polygon.index))"
   ]
  },
  {
   "cell_type": "code",
   "execution_count": null,
   "metadata": {},
   "outputs": [],
   "source": [
    "library_building_points[\"geocode\"] = library_building_points['geometry'].y.map(str) + ',' + library_building_points['geometry'].x.map(str)\n",
    "for ind in library_building_points.index:\n",
    "    location = locator.reverse(library_building_points[\"geocode\"][ind])\n",
    "    library_building_points['geocode'][ind] = location.address"
   ]
  },
  {
   "cell_type": "code",
   "execution_count": null,
   "metadata": {},
   "outputs": [],
   "source": [
    "library_building_polygon[\"centroid\"] = library_building_polygon.to_crs(epsg=4326).centroid.to_crs(library_building_polygon.crs)"
   ]
  },
  {
   "cell_type": "code",
   "execution_count": null,
   "metadata": {},
   "outputs": [],
   "source": [
    "library_building_polygon[\"geocode\"] = library_building_polygon['centroid'].y.map(str) + ',' + library_building_polygon['centroid'].x.map(str)\n",
    "for ind in library_building_polygon.index:\n",
    "    location = locator.reverse(library_building_polygon[\"geocode\"][ind])\n",
    "    library_building_polygon['geocode'][ind] = location.address\n",
    "library_building_polygon = library_building_polygon.drop('centroid', axis=1)"
   ]
  },
  {
   "cell_type": "code",
   "execution_count": null,
   "metadata": {},
   "outputs": [],
   "source": [
    "icon1 = folium.Icon(color='green',prefix='glyphicon',icon='home')\n",
    "icon2 = folium.Icon(color='#FF7377 ',prefix='glyphicon',icon='book')"
   ]
  },
  {
   "cell_type": "code",
   "execution_count": null,
   "metadata": {},
   "outputs": [],
   "source": [
    "\n",
    "m = folium.Map([12.9716, 77.5946], zoom_start=15, tiles='cartodbpositron', width=1800,height=1000)\n",
    "\n",
    "folium.GeoJson(community_building_points,\n",
    "               style_function=lambda x, mean_rsrp=community_building: {\n",
    "                     'fillColor': 'yellow',\n",
    "                     'color': 'black',\n",
    "                     'weight': 1,\n",
    "                     'fillOpacity': 1\n",
    "                  },\n",
    "                marker =folium.Marker([45.5, -122.6], icon=icon1),\n",
    "                tooltip=folium.GeoJsonTooltip(fields=['geocode'])\n",
    "               ).add_to(m)\n",
    "folium.GeoJson(library_building_points,\n",
    "               style_function=lambda x, mean_rsrp=library_building: {\n",
    "                     'fillColor': 'blue',\n",
    "                     'color': 'black',\n",
    "                     'weight': 1,\n",
    "                     'fillOpacity': 1\n",
    "                  },\n",
    "                marker =folium.Marker([45.5, -122.6], icon=icon2),\n",
    "                tooltip=folium.GeoJsonTooltip(fields=['geocode'])\n",
    "               ).add_to(m)\n",
    "folium.GeoJson(community_building_polygon,\n",
    "               style_function=lambda x, mean_rsrp=community_building: {\n",
    "                     'fillColor': 'yellow',\n",
    "                     'color': 'black',\n",
    "                     'weight': 1,\n",
    "                     'fillOpacity': 1\n",
    "                  },\n",
    "                tooltip=folium.GeoJsonTooltip(fields=['geocode'])\n",
    "               ).add_to(m)\n",
    "folium.GeoJson(library_building_polygon,\n",
    "               style_function=lambda x, mean_rsrp=library_building: {\n",
    "                     'fillColor': 'blue',\n",
    "                     'color': 'black',\n",
    "                     'weight': 1,\n",
    "                     'fillOpacity': 1\n",
    "                  },\n",
    "                marker =folium.Marker([45.5, -122.6], icon=icon2),\n",
    "                tooltip=folium.GeoJsonTooltip(fields=['geocode'])\n",
    "               ).add_to(m)"
   ]
  },
  {
   "cell_type": "code",
   "execution_count": null,
   "metadata": {},
   "outputs": [],
   "source": [
    "image_file = 'Legend.png'\n",
    "\n",
    "FloatImage(image_file, left=80).add_to(m)"
   ]
  },
  {
   "cell_type": "code",
   "execution_count": null,
   "metadata": {},
   "outputs": [],
   "source": [
    "m"
   ]
  },
  {
   "cell_type": "code",
   "execution_count": 39,
   "metadata": {},
   "outputs": [],
   "source": [
    "m.save('GeoBLR.html')"
   ]
  }
 ],
 "metadata": {
  "kernelspec": {
   "display_name": "Python 3.9.12 ('allgeo')",
   "language": "python",
   "name": "python3"
  },
  "language_info": {
   "codemirror_mode": {
    "name": "ipython",
    "version": 3
   },
   "file_extension": ".py",
   "mimetype": "text/x-python",
   "name": "python",
   "nbconvert_exporter": "python",
   "pygments_lexer": "ipython3",
   "version": "3.9.12"
  },
  "orig_nbformat": 4,
  "vscode": {
   "interpreter": {
    "hash": "6ebbccdece28557950f8fb69ba0091580ec35bb09c46870d2be0a037a2dc23d8"
   }
  }
 },
 "nbformat": 4,
 "nbformat_minor": 2
}
